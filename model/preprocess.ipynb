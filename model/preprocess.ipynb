{
 "cells": [
  {
   "cell_type": "code",
   "execution_count": 1,
   "metadata": {},
   "outputs": [],
   "source": [
    "import pandas as pd\n",
    "import numpy as np \n",
    "import librosa\n",
    "import os\n"
   ]
  },
  {
   "cell_type": "markdown",
   "metadata": {},
   "source": [
    "I have to create a dataset which is present in this way\n",
    "\n",
    "  0.       \"Path\"           \"Emotion\"         \"Class\"    \n",
    "  1.       \"/audio.wav\"      Anger              1       \n",
    "  2.       \"/audio.wav\"      Happy              0       \n",
    "  3.       \"/audio.wav\"      Sad                2      \n",
    "  ....."
   ]
  },
  {
   "cell_type": "code",
   "execution_count": 3,
   "metadata": {},
   "outputs": [
    {
     "name": "stdout",
     "output_type": "stream",
     "text": [
      "happy\n",
      "sad\n",
      "fear\n",
      "bored\n",
      "surprise\n",
      "neutral\n",
      "angry\n",
      "disgust\n"
     ]
    }
   ],
   "source": [
    "root_dir_path = \"/Users/ishananand/Desktop/ser/combined_dataset\"\n",
    "root_dir = os.listdir(root_dir_path)\n",
    "\n",
    "all_audios = []\n",
    "all_emotions = []\n",
    "all_class = []\n",
    "emotion_class = {\n",
    "    \"happy\" : 0,\n",
    "    \"angry\" : 1,\n",
    "    \"fear\" : 2,\n",
    "    \"sad\" : 3,\n",
    "    \"disgust\": 4,\n",
    "    \"neutral\": 5\n",
    "}\n",
    "\n",
    "for i in range(len(root_dir)):\n",
    "    emotion = root_dir[i]\n",
    "    print(emotion)\n",
    "\n",
    "    emotion_path = root_dir_path + \"/\" + emotion\n",
    "    emotion_dir = os.listdir(emotion_path)\n",
    "\n",
    "    if emotion not in [\"surprise\", \"bored\", \"bored \"]:\n",
    "        for j in range(len(emotion_dir)) :\n",
    "            each_audio_path = emotion_path + \"/\" + emotion_dir[i]\n",
    "            all_audios.append(each_audio_path)\n",
    "            all_emotions.append(emotion)\n",
    "            all_class.append(emotion_class[emotion])\n",
    "\n",
    "            # print(each_audio_path)"
   ]
  },
  {
   "cell_type": "markdown",
   "metadata": {},
   "source": [
    "Creating the DataFrame"
   ]
  },
  {
   "cell_type": "code",
   "execution_count": 4,
   "metadata": {},
   "outputs": [
    {
     "name": "stdout",
     "output_type": "stream",
     "text": [
      "All Emotions:  {'neutral', 'fear', 'angry', 'sad', 'disgust', 'happy'}\n",
      "11970 11970 11970\n",
      "Head: \n",
      "                                               audio emotion  class\n",
      "0  /Users/ishananand/Desktop/ser/combined_dataset...   happy      0\n",
      "1  /Users/ishananand/Desktop/ser/combined_dataset...   happy      0\n",
      "2  /Users/ishananand/Desktop/ser/combined_dataset...   happy      0\n",
      "3  /Users/ishananand/Desktop/ser/combined_dataset...   happy      0\n",
      "4  /Users/ishananand/Desktop/ser/combined_dataset...   happy      0\n",
      "Tail: \n",
      "                                                   audio  emotion  class\n",
      "11965  /Users/ishananand/Desktop/ser/combined_dataset...  disgust      4\n",
      "11966  /Users/ishananand/Desktop/ser/combined_dataset...  disgust      4\n",
      "11967  /Users/ishananand/Desktop/ser/combined_dataset...  disgust      4\n",
      "11968  /Users/ishananand/Desktop/ser/combined_dataset...  disgust      4\n",
      "11969  /Users/ishananand/Desktop/ser/combined_dataset...  disgust      4\n"
     ]
    }
   ],
   "source": [
    "audio_paths = np.array(all_audios)\n",
    "emotions = np.array(all_emotions)\n",
    "classes = np.array(all_class)\n",
    "\n",
    "print(\"All Emotions: \", set(all_emotions))\n",
    "print(len(audio_paths), len(emotions), len(classes))\n",
    "\n",
    "audio_df = pd.DataFrame({\n",
    "    'audio':audio_paths,\n",
    "    'emotion':emotions,\n",
    "    'class':classes\n",
    "})\n",
    "\n",
    "print(\"Head: \")\n",
    "print(audio_df.head())\n",
    "\n",
    "print(\"Tail: \")\n",
    "print(audio_df.tail())"
   ]
  },
  {
   "cell_type": "markdown",
   "metadata": {},
   "source": [
    "Shuffling the Dataset"
   ]
  },
  {
   "cell_type": "code",
   "execution_count": 10,
   "metadata": {},
   "outputs": [
    {
     "name": "stdout",
     "output_type": "stream",
     "text": [
      "                                               audio  emotion  class\n",
      "0  /Users/ishananand/Desktop/ser/combined_dataset...      sad      3\n",
      "1  /Users/ishananand/Desktop/ser/combined_dataset...     fear      2\n",
      "2  /Users/ishananand/Desktop/ser/combined_dataset...  disgust      4\n",
      "3  /Users/ishananand/Desktop/ser/combined_dataset...     fear      2\n",
      "4  /Users/ishananand/Desktop/ser/combined_dataset...    happy      0\n"
     ]
    }
   ],
   "source": [
    "shuffled_df = audio_df.sample(frac=1).reset_index(drop=True)\n",
    "print(shuffled_df.head())"
   ]
  },
  {
   "cell_type": "code",
   "execution_count": 11,
   "metadata": {},
   "outputs": [],
   "source": [
    "# shuffled_df.to_csv('/Users/ishananand/Desktop/ser/Speech-Emotion-Recognition/model/data.csv', index=False)\n",
    "# shuffled_df.save(\"/Users/ishananand/Desktop/ser/Speech-Emotion-Recognition/model/\")\n",
    "shuffled_df.to_csv('/Users/ishananand/Desktop/ser/Speech-Emotion-Recognition/model/data.csv', index=False)\n"
   ]
  },
  {
   "cell_type": "code",
   "execution_count": null,
   "metadata": {},
   "outputs": [],
   "source": []
  }
 ],
 "metadata": {
  "kernelspec": {
   "display_name": "pyt",
   "language": "python",
   "name": "python3"
  },
  "language_info": {
   "codemirror_mode": {
    "name": "ipython",
    "version": 3
   },
   "file_extension": ".py",
   "mimetype": "text/x-python",
   "name": "python",
   "nbconvert_exporter": "python",
   "pygments_lexer": "ipython3",
   "version": "3.11.10"
  }
 },
 "nbformat": 4,
 "nbformat_minor": 2
}
