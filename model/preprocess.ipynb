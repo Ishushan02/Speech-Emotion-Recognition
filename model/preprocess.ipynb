{
 "cells": [
  {
   "cell_type": "code",
   "execution_count": 1,
   "metadata": {},
   "outputs": [],
   "source": [
    "import pandas as pd\n",
    "import numpy as np \n",
    "import librosa\n",
    "import os\n"
   ]
  },
  {
   "cell_type": "markdown",
   "metadata": {},
   "source": [
    "I have to create a dataset which is present in this way\n",
    "\n",
    "  0.       \"Path\"           \"Emotion\"         \"Class\"    \n",
    "  1.       \"/audio.wav\"      Anger              1       \n",
    "  2.       \"/audio.wav\"      Happy              0       \n",
    "  3.       \"/audio.wav\"      Sad                2      \n",
    "  ....."
   ]
  },
  {
   "cell_type": "code",
   "execution_count": 2,
   "metadata": {},
   "outputs": [
    {
     "name": "stdout",
     "output_type": "stream",
     "text": [
      "happy\n",
      "sad\n",
      "fear\n",
      "bored\n",
      "surprise\n",
      "neutral\n",
      "angry\n",
      "disgust\n"
     ]
    }
   ],
   "source": [
    "root_dir_path = \"/Users/ishananand/Desktop/ser/combined_dataset\"\n",
    "root_dir = os.listdir(root_dir_path)\n",
    "\n",
    "all_audios = []\n",
    "all_emotions = []\n",
    "all_class = []\n",
    "emotion_class = {\n",
    "    \"happy\" : 0,\n",
    "    \"angry\" : 1,\n",
    "    \"fear\" : 2,\n",
    "    \"sad\" : 3,\n",
    "    \"disgust\": 4,\n",
    "    \"neutral\": 5\n",
    "}\n",
    "\n",
    "for i in range(len(root_dir)):\n",
    "    emotion = root_dir[i]\n",
    "    print(emotion)\n",
    "\n",
    "    emotion_path = root_dir_path + \"/\" + emotion\n",
    "    emotion_dir = os.listdir(emotion_path)\n",
    "\n",
    "    if emotion not in [\"surprise\", \"bored\", \"bored \"]:\n",
    "        for j in range(len(emotion_dir)) :\n",
    "            each_audio_path = emotion_path + \"/\" + emotion_dir[i]\n",
    "            all_audios.append(each_audio_path)\n",
    "            all_emotions.append(emotion)\n",
    "            all_class.append(emotion_class[emotion])\n",
    "\n",
    "            # print(each_audio_path)"
   ]
  },
  {
   "cell_type": "markdown",
   "metadata": {},
   "source": [
    "Creating the DataFrame"
   ]
  },
  {
   "cell_type": "code",
   "execution_count": 3,
   "metadata": {},
   "outputs": [
    {
     "name": "stdout",
     "output_type": "stream",
     "text": [
      "All Emotions:  {'sad', 'disgust', 'angry', 'fear', 'happy', 'neutral'}\n",
      "23932 23932 23932\n",
      "Head: \n",
      "                                               audio emotion  class\n",
      "0  /Users/ishananand/Desktop/ser/combined_dataset...   happy      0\n",
      "1  /Users/ishananand/Desktop/ser/combined_dataset...   happy      0\n",
      "2  /Users/ishananand/Desktop/ser/combined_dataset...   happy      0\n",
      "3  /Users/ishananand/Desktop/ser/combined_dataset...   happy      0\n",
      "4  /Users/ishananand/Desktop/ser/combined_dataset...   happy      0\n",
      "Tail: \n",
      "                                                   audio  emotion  class\n",
      "23927  /Users/ishananand/Desktop/ser/combined_dataset...  disgust      4\n",
      "23928  /Users/ishananand/Desktop/ser/combined_dataset...  disgust      4\n",
      "23929  /Users/ishananand/Desktop/ser/combined_dataset...  disgust      4\n",
      "23930  /Users/ishananand/Desktop/ser/combined_dataset...  disgust      4\n",
      "23931  /Users/ishananand/Desktop/ser/combined_dataset...  disgust      4\n"
     ]
    }
   ],
   "source": [
    "audio_paths = np.array(all_audios)\n",
    "emotions = np.array(all_emotions)\n",
    "classes = np.array(all_class)\n",
    "\n",
    "print(\"All Emotions: \", set(all_emotions))\n",
    "print(len(audio_paths), len(emotions), len(classes))\n",
    "\n",
    "audio_df = pd.DataFrame({\n",
    "    'audio':audio_paths,\n",
    "    'emotion':emotions,\n",
    "    'class':classes\n",
    "})\n",
    "\n",
    "print(\"Head: \")\n",
    "print(audio_df.head())\n",
    "\n",
    "print(\"Tail: \")\n",
    "print(audio_df.tail())"
   ]
  },
  {
   "cell_type": "markdown",
   "metadata": {},
   "source": [
    "Shuffling the Dataset"
   ]
  },
  {
   "cell_type": "code",
   "execution_count": 4,
   "metadata": {},
   "outputs": [
    {
     "data": {
      "text/html": [
       "<div>\n",
       "<style scoped>\n",
       "    .dataframe tbody tr th:only-of-type {\n",
       "        vertical-align: middle;\n",
       "    }\n",
       "\n",
       "    .dataframe tbody tr th {\n",
       "        vertical-align: top;\n",
       "    }\n",
       "\n",
       "    .dataframe thead th {\n",
       "        text-align: right;\n",
       "    }\n",
       "</style>\n",
       "<table border=\"1\" class=\"dataframe\">\n",
       "  <thead>\n",
       "    <tr style=\"text-align: right;\">\n",
       "      <th></th>\n",
       "      <th>audio</th>\n",
       "      <th>emotion</th>\n",
       "      <th>class</th>\n",
       "    </tr>\n",
       "  </thead>\n",
       "  <tbody>\n",
       "    <tr>\n",
       "      <th>0</th>\n",
       "      <td>/Users/ishananand/Desktop/ser/combined_dataset...</td>\n",
       "      <td>happy</td>\n",
       "      <td>0</td>\n",
       "    </tr>\n",
       "    <tr>\n",
       "      <th>1</th>\n",
       "      <td>/Users/ishananand/Desktop/ser/combined_dataset...</td>\n",
       "      <td>disgust</td>\n",
       "      <td>4</td>\n",
       "    </tr>\n",
       "    <tr>\n",
       "      <th>2</th>\n",
       "      <td>/Users/ishananand/Desktop/ser/combined_dataset...</td>\n",
       "      <td>sad</td>\n",
       "      <td>3</td>\n",
       "    </tr>\n",
       "    <tr>\n",
       "      <th>3</th>\n",
       "      <td>/Users/ishananand/Desktop/ser/combined_dataset...</td>\n",
       "      <td>neutral</td>\n",
       "      <td>5</td>\n",
       "    </tr>\n",
       "    <tr>\n",
       "      <th>4</th>\n",
       "      <td>/Users/ishananand/Desktop/ser/combined_dataset...</td>\n",
       "      <td>fear</td>\n",
       "      <td>2</td>\n",
       "    </tr>\n",
       "  </tbody>\n",
       "</table>\n",
       "</div>"
      ],
      "text/plain": [
       "                                               audio  emotion  class\n",
       "0  /Users/ishananand/Desktop/ser/combined_dataset...    happy      0\n",
       "1  /Users/ishananand/Desktop/ser/combined_dataset...  disgust      4\n",
       "2  /Users/ishananand/Desktop/ser/combined_dataset...      sad      3\n",
       "3  /Users/ishananand/Desktop/ser/combined_dataset...  neutral      5\n",
       "4  /Users/ishananand/Desktop/ser/combined_dataset...     fear      2"
      ]
     },
     "execution_count": 4,
     "metadata": {},
     "output_type": "execute_result"
    }
   ],
   "source": [
    "shuffled_df = audio_df.sample(frac=1, random_state=42).reset_index(drop=True)\n",
    "shuffled_df.head()"
   ]
  },
  {
   "cell_type": "code",
   "execution_count": 5,
   "metadata": {},
   "outputs": [],
   "source": [
    "shuffled_df.to_csv('/Users/ishananand/Desktop/ser/Speech-Emotion-Recognition/model/data.csv', index=False)\n",
    "# shuffled_df.save(\"/Users/ishananand/Desktop/ser/Speech-Emotion-Recognition/model/\")"
   ]
  },
  {
   "cell_type": "code",
   "execution_count": null,
   "metadata": {},
   "outputs": [],
   "source": []
  }
 ],
 "metadata": {
  "kernelspec": {
   "display_name": "pyt",
   "language": "python",
   "name": "python3"
  },
  "language_info": {
   "codemirror_mode": {
    "name": "ipython",
    "version": 3
   },
   "file_extension": ".py",
   "mimetype": "text/x-python",
   "name": "python",
   "nbconvert_exporter": "python",
   "pygments_lexer": "ipython3",
   "version": "3.11.10"
  }
 },
 "nbformat": 4,
 "nbformat_minor": 2
}
